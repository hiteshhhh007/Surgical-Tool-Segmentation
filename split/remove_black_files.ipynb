{
 "cells": [
  {
   "cell_type": "code",
   "execution_count": 1,
   "metadata": {
    "id": "zG4fnNgBn_ka"
   },
   "outputs": [],
   "source": [
    "import cv2\n",
    "import numpy as np\n",
    "import os\n",
    "from glob import glob"
   ]
  },
  {
   "cell_type": "code",
   "execution_count": 2,
   "metadata": {
    "id": "aGMo3xbroThQ"
   },
   "outputs": [],
   "source": [
    "import cv2\n",
    "import os\n",
    "\n",
    "def is_pic_black(label_path, frame_path):\n",
    "    label = cv2.imread(label_path, 0)\n",
    "    if label is not None:  # Check if the image is loaded successfully\n",
    "        if 255 not in label:\n",
    "            os.remove(label_path)\n",
    "            os.remove(frame_path)\n",
    "    else:\n",
    "        print(f\"Unable to read image at path: {label_path}\")\n",
    "\n",
    "# Rest of your code...\n"
   ]
  },
  {
   "cell_type": "code",
   "execution_count": 3,
   "metadata": {
    "id": "9l4TMU00pWPe"
   },
   "outputs": [],
   "source": [
    "# # To delete duplicate files\n",
    "# def delete_empty_frames_and_labels ( frames_folder, labels_folder ):\n",
    "#   for index, frame in enumerate(os.listdir(labels_folder)):\n",
    "#     label_frame_path = os.path.join ( labels_folder, frame )\n",
    "#     if is_pic_black( label_frame_path);\n",
    "#       os.remove(os.path.join())"
   ]
  },
  {
   "cell_type": "code",
   "execution_count": 4,
   "metadata": {
    "scrolled": true
   },
   "outputs": [],
   "source": [
    "import os\n",
    "from glob import glob\n",
    "\n",
    "train_path = './train'\n",
    "frames = ['frames_2']\n",
    "labels = ['labels_2']\n",
    "\n",
    "for frame, label in zip(frames, labels):\n",
    "    frames_path = os.path.join(train_path, frame)\n",
    "    labels_path = os.path.join(train_path, label)\n",
    "    for img in os.listdir(frames_path):\n",
    "        frame_path = os.path.join(frames_path, img)\n",
    "        label_path = os.path.join(labels_path, img)\n",
    "        # print(label_path)\n",
    "        is_pic_black(label_path, frame_path)"
   ]
  },
  {
   "cell_type": "code",
   "execution_count": null,
   "metadata": {},
   "outputs": [],
   "source": [
    "import os\n",
    "\n",
    "# Path to the folder containing label 5 images\n",
    "label5_folder = \"./train/labels_3\"\n",
    "\n",
    "# Path to the folder containing frames\n",
    "frame_folder = \"./train/frames_3\"\n",
    "\n",
    "# Get the list of files in the label5 folder\n",
    "label5_files = os.listdir(label5_folder)\n",
    "\n",
    "# Get the list of files in the frames folder\n",
    "frame_files = os.listdir(frame_folder)\n",
    "\n",
    "# Convert the lists to sets for efficient comparison\n",
    "label5_set = set(label5_files)\n",
    "frame_set = set(frame_files)\n",
    "\n",
    "# Check for filename mismatches\n",
    "mismatched_files = label5_set.symmetric_difference(frame_set)\n",
    "\n",
    "# Print the mismatched filenames\n",
    "if mismatched_files:\n",
    "    print(\"Mismatched filenames:\")\n",
    "    for file in mismatched_files:\n",
    "        if file in label5_set and file not in frame_set:\n",
    "            print(f\"Filename {file} in label5 but not in frames.\")\n",
    "        elif file in frame_set and file not in label5_set:\n",
    "            print(f\"Filename {file} in frames but not in label5.\")\n",
    "else:\n",
    "    print(\"No filename mismatches found.\")\n",
    "\n",
    "print(\"Processing complete.\")"
   ]
  }
 ],
 "metadata": {
  "colab": {
   "provenance": []
  },
  "kernelspec": {
   "display_name": "Python 3 (ipykernel)",
   "language": "python",
   "name": "python3"
  },
  "language_info": {
   "codemirror_mode": {
    "name": "ipython",
    "version": 3
   },
   "file_extension": ".py",
   "mimetype": "text/x-python",
   "name": "python",
   "nbconvert_exporter": "python",
   "pygments_lexer": "ipython3",
   "version": "3.10.10"
  }
 },
 "nbformat": 4,
 "nbformat_minor": 4
}

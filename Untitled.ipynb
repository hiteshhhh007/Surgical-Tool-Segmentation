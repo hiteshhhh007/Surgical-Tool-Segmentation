{
 "cells": [
  {
   "cell_type": "code",
   "execution_count": 7,
   "id": "84f21a2f-dc7d-4d7a-bddc-c943a9be2fe0",
   "metadata": {},
   "outputs": [],
   "source": [
    "import cv2\n",
    "import matplotlib.pylab as plt\n",
    "import os"
   ]
  },
  {
   "cell_type": "code",
   "execution_count": 24,
   "id": "865c309f-4e95-4c36-a134-5af193f293c1",
   "metadata": {},
   "outputs": [],
   "source": [
    "seq_path = './PS3_Test/seq_4/save'\n",
    "for img in os.listdir(seq_path):\n",
    "    img_path = os.path.join(seq_path, img)\n",
    "    # if img_path[-7:-4] == '143' or img_path[-7:-4] == '144':\n",
    "    image = cv2.imread(img_path)\n",
    "    image = cv2.resize(image, (1280, 1024))\n",
    "    plt.imsave(f'{img_path}', image)\n",
    "    # break"
   ]
  }
 ],
 "metadata": {
  "kernelspec": {
   "display_name": "Python 3 (ipykernel)",
   "language": "python",
   "name": "python3"
  },
  "language_info": {
   "codemirror_mode": {
    "name": "ipython",
    "version": 3
   },
   "file_extension": ".py",
   "mimetype": "text/x-python",
   "name": "python",
   "nbconvert_exporter": "python",
   "pygments_lexer": "ipython3",
   "version": "3.10.10"
  }
 },
 "nbformat": 4,
 "nbformat_minor": 5
}

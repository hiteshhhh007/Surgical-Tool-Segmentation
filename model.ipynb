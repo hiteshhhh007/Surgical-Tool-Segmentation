{
 "cells": [
  {
   "cell_type": "markdown",
   "id": "8fff3d83-a956-4236-8d79-4c52e9bc2ce3",
   "metadata": {},
   "source": [
    "# Importing Dependencies"
   ]
  },
  {
   "cell_type": "code",
   "execution_count": 30,
   "id": "0d2742a4-80e3-4e22-a8ca-844745bf07d5",
   "metadata": {},
   "outputs": [],
   "source": [
    "import numpy as np\n",
    "import pandas as pd\n",
    "import matplotlib.pylab as plt\n",
    "import cv2\n",
    "import os\n",
    "import keras\n",
    "from glob import glob\n",
    "import tensorflow as tf\n",
    "from keras.layers import Conv2D, BatchNormalization, Activation, MaxPool2D, Conv2DTranspose, Concatenate, Input\n",
    "from keras.models import Model\n",
    "from keras.callbacks import EarlyStopping, ModelCheckpoint, ReduceLROnPlateau, CSVLogger\n",
    "from keras import backend as K"
   ]
  },
  {
   "cell_type": "code",
   "execution_count": 31,
   "id": "6526a562-a98d-4121-b13b-f5a91f1a40e7",
   "metadata": {},
   "outputs": [],
   "source": [
    "tf.config.run_functions_eagerly(True)"
   ]
  },
  {
   "cell_type": "code",
   "execution_count": 32,
   "id": "37922f4e-487e-4442-95da-e20c4a8aa1b4",
   "metadata": {},
   "outputs": [],
   "source": [
    "gpus = tf.config.list_physical_devices('GPU')\n",
    "for i in gpus:\n",
    "    i = tf.config.experimental.set_memory_growth(i, True)"
   ]
  },
  {
   "cell_type": "code",
   "execution_count": null,
   "id": "9387299f-6876-4e19-a2c6-d368013dca18",
   "metadata": {},
   "outputs": [],
   "source": [
    "# SET MODEL PATH\n",
    "model_folder = './model'\n",
    "if not os.path.exists(model_folder):\n",
    "    os.mkdir(model_folder)\n",
    "else:\n",
    "    print('Folder already exists.')"
   ]
  },
  {
   "cell_type": "code",
   "execution_count": null,
   "id": "6e5dd3f3-237c-44b3-8f4e-d044372899a0",
   "metadata": {},
   "outputs": [],
   "source": [
    "# SET LOG PATH\n",
    "log_folder = './log'\n",
    "if not os.path.exists(log_folder):\n",
    "    os.mkdir(log_folder)\n",
    "else:\n",
    "    print('Folder already exists.')"
   ]
  },
  {
   "cell_type": "code",
   "execution_count": 33,
   "id": "c3ba9abd-fd58-4716-86a1-d474399fbeae",
   "metadata": {},
   "outputs": [],
   "source": [
    "# SET LABEL TO TRAIN FOR\n",
    "label = 1\n",
    "\n",
    "# SET TRAIN DATASET PATH\n",
    "train_path = './train/'\n",
    "\n",
    "#SET PATH FOR EXPORTED MODEL AND LOG FILE\n",
    "model_path = os.path.join('./model/updt', f'unet_jacc_N{label}.h5')\n",
    "log_path = os.path.join('./log/', f'log_{label}_NEW.csv')"
   ]
  },
  {
   "cell_type": "code",
   "execution_count": 34,
   "id": "84c9b21a-7f9c-46dc-8a69-100e576498d6",
   "metadata": {},
   "outputs": [],
   "source": [
    "batch_size = 3 # SET NO OF BATCHES\n",
    "lr = 1e-4 # SET LEARNING RATE\n",
    "\n",
    "# SET INPUT FRAME SIZE \n",
    "height = 1024//4\n",
    "width = 1280//4"
   ]
  },
  {
   "cell_type": "code",
   "execution_count": 44,
   "id": "8d2d5b0a-a105-4fa9-b1a4-b0703cba0040",
   "metadata": {
    "scrolled": true
   },
   "outputs": [],
   "source": [
    "# LIST OF FRAMES\n",
    "X = glob(os.path.join(train_path, f'frames_og', '*'))\n",
    "# LIST OF CORRESPONDING FRAME MASK\n",
    "y = glob(os.path.join(train_path, f'labels_{label}', '*'))"
   ]
  },
  {
   "cell_type": "markdown",
   "id": "8eaade1f-ed64-4b5e-8add-d10d9f5486bd",
   "metadata": {},
   "source": [
    "## Model Functions"
   ]
  },
  {
   "cell_type": "code",
   "execution_count": 35,
   "id": "586e102b-65cd-4150-9fd9-0e5265cbad6d",
   "metadata": {},
   "outputs": [],
   "source": [
    "def conv_block(inputs, num_filters):\n",
    "    x = Conv2D(num_filters, 3, padding='same')(inputs)\n",
    "    x = BatchNormalization()(x)\n",
    "    x = Activation('relu')(x)\n",
    "\n",
    "    x = Conv2D(num_filters, 3, padding='same')(x)\n",
    "    x = BatchNormalization()(x)\n",
    "    x = Activation('relu')(x)\n",
    "\n",
    "    return x"
   ]
  },
  {
   "cell_type": "code",
   "execution_count": 36,
   "id": "cb9f89be-fd84-4e96-ba77-69140aac7b51",
   "metadata": {},
   "outputs": [],
   "source": [
    "def encoder_block(inputs, num_filters):\n",
    "    x = conv_block(inputs, num_filters)\n",
    "    p = MaxPool2D((2, 2))(x)\n",
    "    return x, p"
   ]
  },
  {
   "cell_type": "code",
   "execution_count": 37,
   "id": "6cd22d90-2fde-49fb-84b1-dee1e6ae60f7",
   "metadata": {},
   "outputs": [],
   "source": [
    "def decoder_block(inputs, skip, num_filters):\n",
    "    x = Conv2DTranspose(num_filters, (2, 2), strides=2, padding='same')(inputs)\n",
    "    x = Concatenate()([x, skip])\n",
    "    x = conv_block(x, num_filters)\n",
    "    return x"
   ]
  },
  {
   "cell_type": "code",
   "execution_count": 38,
   "id": "96d8d6b3-423d-44ef-b448-83f7ee573370",
   "metadata": {},
   "outputs": [],
   "source": [
    "def build_unet(input_shape):\n",
    "    inputs = Input(input_shape)\n",
    "\n",
    "    s1, p1 = encoder_block(inputs, 64)\n",
    "    s2, p2 = encoder_block(p1, 128)\n",
    "    s3, p3 = encoder_block(p2, 256)\n",
    "    s4, p4 = encoder_block(p3, 512)\n",
    "\n",
    "    b1 = conv_block(p4, 1024)\n",
    "    d1 = decoder_block(b1, s4, 512)\n",
    "    d2 = decoder_block(d1, s3, 256)\n",
    "    d3 = decoder_block(d2, s2, 128)\n",
    "    d4 = decoder_block(d3, s1, 64)\n",
    "\n",
    "    outputs = Conv2D(1, 1, padding = 'same', activation='sigmoid')(d4)\n",
    "    model = Model(inputs, outputs, name='UNET')\n",
    "    return model"
   ]
  },
  {
   "cell_type": "code",
   "execution_count": 39,
   "id": "09d23ecb-09ee-481e-a559-3e7578234c41",
   "metadata": {},
   "outputs": [],
   "source": [
    "def read_image(path):\n",
    "    path = path.decode()\n",
    "    x = cv2.imread(path, cv2.IMREAD_COLOR)\n",
    "    x = cv2.resize(x, (width, height))\n",
    "    x = x/255.0\n",
    "    return x"
   ]
  },
  {
   "cell_type": "code",
   "execution_count": 40,
   "id": "2998082e-3852-4790-9440-875ce7481b89",
   "metadata": {},
   "outputs": [],
   "source": [
    "def read_mask(path):\n",
    "    path = path.decode()\n",
    "    x = cv2.imread(path, cv2.IMREAD_GRAYSCALE)\n",
    "    x = cv2.resize(x, (width, height))\n",
    "    x = x/255.0\n",
    "    x = np.expand_dims(x, axis=-1)\n",
    "    return x"
   ]
  },
  {
   "cell_type": "code",
   "execution_count": 41,
   "id": "06164a32-818c-4a1f-b897-a3cd066ebe72",
   "metadata": {},
   "outputs": [],
   "source": [
    "def convert_to_binary(image_path : str):\n",
    "    image = cv2.imread(image_path,0)\n",
    "    numpy_image = np.array([[255 if pixel == 29 else 0 for pixel in row]for row in image])\n",
    "    return numpy_image.astype(np.uint8)"
   ]
  },
  {
   "cell_type": "code",
   "execution_count": 42,
   "id": "f8b201ee-1631-4b49-aa13-cd1870951cbf",
   "metadata": {},
   "outputs": [],
   "source": [
    "def tf_parse(x, y):\n",
    "    def _parse(x, y):\n",
    "        x = read_image(x)\n",
    "        y = read_mask(y)\n",
    "        return x, y\n",
    "    x, y = tf.numpy_function(_parse, [x, y], [tf.float64, tf.float64])\n",
    "    x.set_shape([height, width, 3])\n",
    "    y.set_shape([height, width, 1])\n",
    "\n",
    "    return x, y"
   ]
  },
  {
   "cell_type": "code",
   "execution_count": 43,
   "id": "626d97da-aaf1-4dc7-b21f-1a73c2f83573",
   "metadata": {},
   "outputs": [],
   "source": [
    "def tf_dataset(x, y, batch=16):\n",
    "    dataset = tf.data.Dataset.from_tensor_slices((x, y))\n",
    "    dataset = dataset.map(tf_parse, num_parallel_calls=tf.data.AUTOTUNE)\n",
    "    dataset = dataset.batch(batch)\n",
    "    dataset = dataset.prefetch(tf.data.AUTOTUNE)\n",
    "    return dataset"
   ]
  },
  {
   "cell_type": "markdown",
   "id": "0f18c82b-1b0c-4957-8943-a9dc0db2b66f",
   "metadata": {},
   "source": [
    "# Loading Dataset"
   ]
  },
  {
   "cell_type": "code",
   "execution_count": 45,
   "id": "08404762-49a6-4e88-bd4a-1cce208ae86f",
   "metadata": {},
   "outputs": [
    {
     "name": "stdout",
     "output_type": "stream",
     "text": [
      "2235\n",
      "2235\n"
     ]
    }
   ],
   "source": [
    "print(len(X))\n",
    "print(len(y))"
   ]
  },
  {
   "cell_type": "code",
   "execution_count": 46,
   "id": "818b5893-f6de-4b44-a0f3-548748baecf2",
   "metadata": {
    "scrolled": true
   },
   "outputs": [],
   "source": [
    "from sklearn.model_selection import train_test_split\n",
    "train_x, val_x, train_y, val_y = train_test_split(X, y, train_size=0.8, shuffle=False, random_state=27) "
   ]
  },
  {
   "cell_type": "code",
   "execution_count": 47,
   "id": "392f5bfb-7de1-4673-821a-e3ef176e0e21",
   "metadata": {},
   "outputs": [
    {
     "name": "stdout",
     "output_type": "stream",
     "text": [
      "Train: 1788 - 1788\n",
      "Valid: 447 - 447\n"
     ]
    }
   ],
   "source": [
    "print(f'Train: {len(train_x)} - {len(train_y)}')\n",
    "print(f'Valid: {len(val_x)} - {len(val_y)}')"
   ]
  },
  {
   "cell_type": "code",
   "execution_count": 48,
   "id": "1be0f3e4-3d57-4f3f-992a-a218dc6e81e3",
   "metadata": {},
   "outputs": [],
   "source": [
    "train_dataset = tf_dataset(train_x, train_y, batch=batch_size)\n",
    "valid_dataset = tf_dataset(val_x, val_y, batch=batch_size)"
   ]
  },
  {
   "cell_type": "markdown",
   "id": "f3b58506-7fac-4f40-829f-3ddb68e32e2a",
   "metadata": {},
   "source": [
    "# U-NET Model"
   ]
  },
  {
   "cell_type": "code",
   "execution_count": 49,
   "id": "b8110dec-b652-4250-abd9-d5de5bd16c31",
   "metadata": {},
   "outputs": [
    {
     "name": "stdout",
     "output_type": "stream",
     "text": [
      "Model: \"UNET\"\n",
      "__________________________________________________________________________________________________\n",
      " Layer (type)                   Output Shape         Param #     Connected to                     \n",
      "==================================================================================================\n",
      " input_2 (InputLayer)           [(None, 256, 320, 3  0           []                               \n",
      "                                )]                                                                \n",
      "                                                                                                  \n",
      " conv2d_19 (Conv2D)             (None, 256, 320, 64  1792        ['input_2[0][0]']                \n",
      "                                )                                                                 \n",
      "                                                                                                  \n",
      " batch_normalization_18 (BatchN  (None, 256, 320, 64  256        ['conv2d_19[0][0]']              \n",
      " ormalization)                  )                                                                 \n",
      "                                                                                                  \n",
      " activation_18 (Activation)     (None, 256, 320, 64  0           ['batch_normalization_18[0][0]'] \n",
      "                                )                                                                 \n",
      "                                                                                                  \n",
      " conv2d_20 (Conv2D)             (None, 256, 320, 64  36928       ['activation_18[0][0]']          \n",
      "                                )                                                                 \n",
      "                                                                                                  \n",
      " batch_normalization_19 (BatchN  (None, 256, 320, 64  256        ['conv2d_20[0][0]']              \n",
      " ormalization)                  )                                                                 \n",
      "                                                                                                  \n",
      " activation_19 (Activation)     (None, 256, 320, 64  0           ['batch_normalization_19[0][0]'] \n",
      "                                )                                                                 \n",
      "                                                                                                  \n",
      " max_pooling2d_4 (MaxPooling2D)  (None, 128, 160, 64  0          ['activation_19[0][0]']          \n",
      "                                )                                                                 \n",
      "                                                                                                  \n",
      " conv2d_21 (Conv2D)             (None, 128, 160, 12  73856       ['max_pooling2d_4[0][0]']        \n",
      "                                8)                                                                \n",
      "                                                                                                  \n",
      " batch_normalization_20 (BatchN  (None, 128, 160, 12  512        ['conv2d_21[0][0]']              \n",
      " ormalization)                  8)                                                                \n",
      "                                                                                                  \n",
      " activation_20 (Activation)     (None, 128, 160, 12  0           ['batch_normalization_20[0][0]'] \n",
      "                                8)                                                                \n",
      "                                                                                                  \n",
      " conv2d_22 (Conv2D)             (None, 128, 160, 12  147584      ['activation_20[0][0]']          \n",
      "                                8)                                                                \n",
      "                                                                                                  \n",
      " batch_normalization_21 (BatchN  (None, 128, 160, 12  512        ['conv2d_22[0][0]']              \n",
      " ormalization)                  8)                                                                \n",
      "                                                                                                  \n",
      " activation_21 (Activation)     (None, 128, 160, 12  0           ['batch_normalization_21[0][0]'] \n",
      "                                8)                                                                \n",
      "                                                                                                  \n",
      " max_pooling2d_5 (MaxPooling2D)  (None, 64, 80, 128)  0          ['activation_21[0][0]']          \n",
      "                                                                                                  \n",
      " conv2d_23 (Conv2D)             (None, 64, 80, 256)  295168      ['max_pooling2d_5[0][0]']        \n",
      "                                                                                                  \n",
      " batch_normalization_22 (BatchN  (None, 64, 80, 256)  1024       ['conv2d_23[0][0]']              \n",
      " ormalization)                                                                                    \n",
      "                                                                                                  \n",
      " activation_22 (Activation)     (None, 64, 80, 256)  0           ['batch_normalization_22[0][0]'] \n",
      "                                                                                                  \n",
      " conv2d_24 (Conv2D)             (None, 64, 80, 256)  590080      ['activation_22[0][0]']          \n",
      "                                                                                                  \n",
      " batch_normalization_23 (BatchN  (None, 64, 80, 256)  1024       ['conv2d_24[0][0]']              \n",
      " ormalization)                                                                                    \n",
      "                                                                                                  \n",
      " activation_23 (Activation)     (None, 64, 80, 256)  0           ['batch_normalization_23[0][0]'] \n",
      "                                                                                                  \n",
      " max_pooling2d_6 (MaxPooling2D)  (None, 32, 40, 256)  0          ['activation_23[0][0]']          \n",
      "                                                                                                  \n",
      " conv2d_25 (Conv2D)             (None, 32, 40, 512)  1180160     ['max_pooling2d_6[0][0]']        \n",
      "                                                                                                  \n",
      " batch_normalization_24 (BatchN  (None, 32, 40, 512)  2048       ['conv2d_25[0][0]']              \n",
      " ormalization)                                                                                    \n",
      "                                                                                                  \n",
      " activation_24 (Activation)     (None, 32, 40, 512)  0           ['batch_normalization_24[0][0]'] \n",
      "                                                                                                  \n",
      " conv2d_26 (Conv2D)             (None, 32, 40, 512)  2359808     ['activation_24[0][0]']          \n",
      "                                                                                                  \n",
      " batch_normalization_25 (BatchN  (None, 32, 40, 512)  2048       ['conv2d_26[0][0]']              \n",
      " ormalization)                                                                                    \n",
      "                                                                                                  \n",
      " activation_25 (Activation)     (None, 32, 40, 512)  0           ['batch_normalization_25[0][0]'] \n",
      "                                                                                                  \n",
      " max_pooling2d_7 (MaxPooling2D)  (None, 16, 20, 512)  0          ['activation_25[0][0]']          \n",
      "                                                                                                  \n",
      " conv2d_27 (Conv2D)             (None, 16, 20, 1024  4719616     ['max_pooling2d_7[0][0]']        \n",
      "                                )                                                                 \n",
      "                                                                                                  \n",
      " batch_normalization_26 (BatchN  (None, 16, 20, 1024  4096       ['conv2d_27[0][0]']              \n",
      " ormalization)                  )                                                                 \n",
      "                                                                                                  \n",
      " activation_26 (Activation)     (None, 16, 20, 1024  0           ['batch_normalization_26[0][0]'] \n",
      "                                )                                                                 \n",
      "                                                                                                  \n",
      " conv2d_28 (Conv2D)             (None, 16, 20, 1024  9438208     ['activation_26[0][0]']          \n",
      "                                )                                                                 \n",
      "                                                                                                  \n",
      " batch_normalization_27 (BatchN  (None, 16, 20, 1024  4096       ['conv2d_28[0][0]']              \n",
      " ormalization)                  )                                                                 \n",
      "                                                                                                  \n",
      " activation_27 (Activation)     (None, 16, 20, 1024  0           ['batch_normalization_27[0][0]'] \n",
      "                                )                                                                 \n",
      "                                                                                                  \n",
      " conv2d_transpose_4 (Conv2DTran  (None, 32, 40, 512)  2097664    ['activation_27[0][0]']          \n",
      " spose)                                                                                           \n",
      "                                                                                                  \n",
      " concatenate_4 (Concatenate)    (None, 32, 40, 1024  0           ['conv2d_transpose_4[0][0]',     \n",
      "                                )                                 'activation_25[0][0]']          \n",
      "                                                                                                  \n",
      " conv2d_29 (Conv2D)             (None, 32, 40, 512)  4719104     ['concatenate_4[0][0]']          \n",
      "                                                                                                  \n",
      " batch_normalization_28 (BatchN  (None, 32, 40, 512)  2048       ['conv2d_29[0][0]']              \n",
      " ormalization)                                                                                    \n",
      "                                                                                                  \n",
      " activation_28 (Activation)     (None, 32, 40, 512)  0           ['batch_normalization_28[0][0]'] \n",
      "                                                                                                  \n",
      " conv2d_30 (Conv2D)             (None, 32, 40, 512)  2359808     ['activation_28[0][0]']          \n",
      "                                                                                                  \n",
      " batch_normalization_29 (BatchN  (None, 32, 40, 512)  2048       ['conv2d_30[0][0]']              \n",
      " ormalization)                                                                                    \n",
      "                                                                                                  \n",
      " activation_29 (Activation)     (None, 32, 40, 512)  0           ['batch_normalization_29[0][0]'] \n",
      "                                                                                                  \n",
      " conv2d_transpose_5 (Conv2DTran  (None, 64, 80, 256)  524544     ['activation_29[0][0]']          \n",
      " spose)                                                                                           \n",
      "                                                                                                  \n",
      " concatenate_5 (Concatenate)    (None, 64, 80, 512)  0           ['conv2d_transpose_5[0][0]',     \n",
      "                                                                  'activation_23[0][0]']          \n",
      "                                                                                                  \n",
      " conv2d_31 (Conv2D)             (None, 64, 80, 256)  1179904     ['concatenate_5[0][0]']          \n",
      "                                                                                                  \n",
      " batch_normalization_30 (BatchN  (None, 64, 80, 256)  1024       ['conv2d_31[0][0]']              \n",
      " ormalization)                                                                                    \n",
      "                                                                                                  \n",
      " activation_30 (Activation)     (None, 64, 80, 256)  0           ['batch_normalization_30[0][0]'] \n",
      "                                                                                                  \n",
      " conv2d_32 (Conv2D)             (None, 64, 80, 256)  590080      ['activation_30[0][0]']          \n",
      "                                                                                                  \n",
      " batch_normalization_31 (BatchN  (None, 64, 80, 256)  1024       ['conv2d_32[0][0]']              \n",
      " ormalization)                                                                                    \n",
      "                                                                                                  \n",
      " activation_31 (Activation)     (None, 64, 80, 256)  0           ['batch_normalization_31[0][0]'] \n",
      "                                                                                                  \n",
      " conv2d_transpose_6 (Conv2DTran  (None, 128, 160, 12  131200     ['activation_31[0][0]']          \n",
      " spose)                         8)                                                                \n",
      "                                                                                                  \n",
      " concatenate_6 (Concatenate)    (None, 128, 160, 25  0           ['conv2d_transpose_6[0][0]',     \n",
      "                                6)                                'activation_21[0][0]']          \n",
      "                                                                                                  \n",
      " conv2d_33 (Conv2D)             (None, 128, 160, 12  295040      ['concatenate_6[0][0]']          \n",
      "                                8)                                                                \n",
      "                                                                                                  \n",
      " batch_normalization_32 (BatchN  (None, 128, 160, 12  512        ['conv2d_33[0][0]']              \n",
      " ormalization)                  8)                                                                \n",
      "                                                                                                  \n",
      " activation_32 (Activation)     (None, 128, 160, 12  0           ['batch_normalization_32[0][0]'] \n",
      "                                8)                                                                \n",
      "                                                                                                  \n",
      " conv2d_34 (Conv2D)             (None, 128, 160, 12  147584      ['activation_32[0][0]']          \n",
      "                                8)                                                                \n",
      "                                                                                                  \n",
      " batch_normalization_33 (BatchN  (None, 128, 160, 12  512        ['conv2d_34[0][0]']              \n",
      " ormalization)                  8)                                                                \n",
      "                                                                                                  \n",
      " activation_33 (Activation)     (None, 128, 160, 12  0           ['batch_normalization_33[0][0]'] \n",
      "                                8)                                                                \n",
      "                                                                                                  \n",
      " conv2d_transpose_7 (Conv2DTran  (None, 256, 320, 64  32832      ['activation_33[0][0]']          \n",
      " spose)                         )                                                                 \n",
      "                                                                                                  \n",
      " concatenate_7 (Concatenate)    (None, 256, 320, 12  0           ['conv2d_transpose_7[0][0]',     \n",
      "                                8)                                'activation_19[0][0]']          \n",
      "                                                                                                  \n",
      " conv2d_35 (Conv2D)             (None, 256, 320, 64  73792       ['concatenate_7[0][0]']          \n",
      "                                )                                                                 \n",
      "                                                                                                  \n",
      " batch_normalization_34 (BatchN  (None, 256, 320, 64  256        ['conv2d_35[0][0]']              \n",
      " ormalization)                  )                                                                 \n",
      "                                                                                                  \n",
      " activation_34 (Activation)     (None, 256, 320, 64  0           ['batch_normalization_34[0][0]'] \n",
      "                                )                                                                 \n",
      "                                                                                                  \n",
      " conv2d_36 (Conv2D)             (None, 256, 320, 64  36928       ['activation_34[0][0]']          \n",
      "                                )                                                                 \n",
      "                                                                                                  \n",
      " batch_normalization_35 (BatchN  (None, 256, 320, 64  256        ['conv2d_36[0][0]']              \n",
      " ormalization)                  )                                                                 \n",
      "                                                                                                  \n",
      " activation_35 (Activation)     (None, 256, 320, 64  0           ['batch_normalization_35[0][0]'] \n",
      "                                )                                                                 \n",
      "                                                                                                  \n",
      " conv2d_37 (Conv2D)             (None, 256, 320, 1)  65          ['activation_35[0][0]']          \n",
      "                                                                                                  \n",
      "==================================================================================================\n",
      "Total params: 31,055,297\n",
      "Trainable params: 31,043,521\n",
      "Non-trainable params: 11,776\n",
      "__________________________________________________________________________________________________\n"
     ]
    }
   ],
   "source": [
    "input_shape = (height, width, 3)\n",
    "model = build_unet(input_shape)\n",
    "model.summary()"
   ]
  },
  {
   "cell_type": "code",
   "execution_count": 50,
   "id": "c685858a-e3f8-4b30-81fd-bbae01f69a98",
   "metadata": {},
   "outputs": [],
   "source": [
    "def jaccard_distance(y_true, y_pred, smooth=100):\n",
    "    intersection = K.sum(K.abs(y_true * y_pred), axis=-1)\n",
    "    sum_ = K.sum(K.abs(y_true) + K.abs(y_pred), axis=-1)\n",
    "    jac = (intersection + smooth) / (sum_ - intersection + smooth)\n",
    "    return (1 - jac) * smooth"
   ]
  },
  {
   "cell_type": "code",
   "execution_count": 51,
   "id": "5bde971f-3423-4098-99f2-719e6e14bba4",
   "metadata": {},
   "outputs": [],
   "source": [
    "import tensorflow.keras.backend as K\n",
    "\n",
    "def dice_loss(y_true, y_pred, smooth=1):\n",
    "    intersection = K.sum(y_true * y_pred)\n",
    "    sum_ = K.sum(y_true) + K.sum(y_pred)\n",
    "    dice = (2. * intersection + smooth) / (sum_ + smooth)\n",
    "    return 1 - dice\n"
   ]
  },
  {
   "cell_type": "code",
   "execution_count": 52,
   "id": "aab287ac-4420-4ab0-8252-86c0ca7e27e9",
   "metadata": {},
   "outputs": [],
   "source": [
    "opt = tf.keras.optimizers.Adam(lr)\n",
    "model.compile(loss = jaccard_distance, optimizer=opt, metrics=[jaccard_distance])"
   ]
  },
  {
   "cell_type": "code",
   "execution_count": 53,
   "id": "cf5e8ee4-e956-4e5c-840b-afb097fec36c",
   "metadata": {},
   "outputs": [],
   "source": [
    "callbacks = [\n",
    "    ModelCheckpoint(model_path, verbose=1, save_best_only=True),\n",
    "    ReduceLROnPlateau(monitor='val_loss', factor=0.1, patience=2),\n",
    "    CSVLogger(log_path),\n",
    "    EarlyStopping(monitor='val_loss', patience=20, restore_best_weights=False)\n",
    "]"
   ]
  },
  {
   "cell_type": "code",
   "execution_count": 56,
   "id": "547ab6e3-233c-4558-a4a4-78436331e403",
   "metadata": {
    "scrolled": true
   },
   "outputs": [
    {
     "name": "stdout",
     "output_type": "stream",
     "text": [
      "Epoch 1/8\n",
      "596/596 [==============================] - ETA: 0s - loss: 0.0314 - jaccard_distance: 0.0314\n",
      "Epoch 1: val_loss improved from 0.10571 to 0.04781, saving model to ./model/updt\\unet_jacc_N1.h5\n",
      "596/596 [==============================] - 135s 226ms/step - loss: 0.0314 - jaccard_distance: 0.0314 - val_loss: 0.0478 - val_jaccard_distance: 0.0478 - lr: 1.0000e-04\n",
      "Epoch 2/8\n",
      "596/596 [==============================] - ETA: 0s - loss: 0.0275 - jaccard_distance: 0.0275\n",
      "Epoch 2: val_loss improved from 0.04781 to 0.04421, saving model to ./model/updt\\unet_jacc_N1.h5\n",
      "596/596 [==============================] - 131s 220ms/step - loss: 0.0275 - jaccard_distance: 0.0275 - val_loss: 0.0442 - val_jaccard_distance: 0.0442 - lr: 1.0000e-04\n",
      "Epoch 3/8\n",
      "596/596 [==============================] - ETA: 0s - loss: 0.0252 - jaccard_distance: 0.0252\n",
      "Epoch 3: val_loss improved from 0.04421 to 0.04382, saving model to ./model/updt\\unet_jacc_N1.h5\n",
      "596/596 [==============================] - 126s 211ms/step - loss: 0.0252 - jaccard_distance: 0.0252 - val_loss: 0.0438 - val_jaccard_distance: 0.0438 - lr: 1.0000e-04\n",
      "Epoch 4/8\n",
      "596/596 [==============================] - ETA: 0s - loss: 0.0217 - jaccard_distance: 0.0217\n",
      "Epoch 4: val_loss did not improve from 0.04382\n",
      "596/596 [==============================] - 135s 227ms/step - loss: 0.0217 - jaccard_distance: 0.0217 - val_loss: 0.0570 - val_jaccard_distance: 0.0570 - lr: 1.0000e-04\n",
      "Epoch 5/8\n",
      "596/596 [==============================] - ETA: 0s - loss: 0.0202 - jaccard_distance: 0.0202\n",
      "Epoch 5: val_loss did not improve from 0.04382\n",
      "596/596 [==============================] - 126s 212ms/step - loss: 0.0202 - jaccard_distance: 0.0202 - val_loss: 0.0657 - val_jaccard_distance: 0.0657 - lr: 1.0000e-04\n",
      "Epoch 6/8\n",
      "596/596 [==============================] - ETA: 0s - loss: 0.0180 - jaccard_distance: 0.0180\n",
      "Epoch 6: val_loss improved from 0.04382 to 0.03015, saving model to ./model/updt\\unet_jacc_N1.h5\n",
      "596/596 [==============================] - 128s 214ms/step - loss: 0.0180 - jaccard_distance: 0.0180 - val_loss: 0.0301 - val_jaccard_distance: 0.0301 - lr: 1.0000e-05\n",
      "Epoch 7/8\n",
      "596/596 [==============================] - ETA: 0s - loss: 0.0159 - jaccard_distance: 0.0159\n",
      "Epoch 7: val_loss improved from 0.03015 to 0.02931, saving model to ./model/updt\\unet_jacc_N1.h5\n",
      "596/596 [==============================] - 136s 227ms/step - loss: 0.0159 - jaccard_distance: 0.0159 - val_loss: 0.0293 - val_jaccard_distance: 0.0293 - lr: 1.0000e-05\n",
      "Epoch 8/8\n",
      "596/596 [==============================] - ETA: 0s - loss: 0.0150 - jaccard_distance: 0.0150\n",
      "Epoch 8: val_loss improved from 0.02931 to 0.02910, saving model to ./model/updt\\unet_jacc_N1.h5\n",
      "596/596 [==============================] - 564s 947ms/step - loss: 0.0150 - jaccard_distance: 0.0150 - val_loss: 0.0291 - val_jaccard_distance: 0.0291 - lr: 1.0000e-05\n"
     ]
    },
    {
     "data": {
      "text/plain": [
       "<keras.callbacks.History at 0x19fa0995690>"
      ]
     },
     "execution_count": 56,
     "metadata": {},
     "output_type": "execute_result"
    }
   ],
   "source": [
    "model.fit(\n",
    "    train_dataset,\n",
    "    validation_data=valid_dataset,\n",
    "    epochs=8,\n",
    "    callbacks=callbacks\n",
    ")"
   ]
  },
  {
   "cell_type": "markdown",
   "id": "1b1d81b2-0c18-4855-963a-ead888afdb96",
   "metadata": {},
   "source": [
    "# Export Model"
   ]
  },
  {
   "cell_type": "code",
   "execution_count": null,
   "id": "204d7525-a9dc-4b1b-bc61-ea75ccb8c202",
   "metadata": {},
   "outputs": [],
   "source": [
    "model.save(model_path)"
   ]
  }
 ],
 "metadata": {
  "kernelspec": {
   "display_name": "Python 3 (ipykernel)",
   "language": "python",
   "name": "python3"
  },
  "language_info": {
   "codemirror_mode": {
    "name": "ipython",
    "version": 3
   },
   "file_extension": ".py",
   "mimetype": "text/x-python",
   "name": "python",
   "nbconvert_exporter": "python",
   "pygments_lexer": "ipython3",
   "version": "3.10.10"
  }
 },
 "nbformat": 4,
 "nbformat_minor": 5
}
